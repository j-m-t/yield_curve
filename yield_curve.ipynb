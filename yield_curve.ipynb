{
 "cells": [
  {
   "cell_type": "code",
   "execution_count": null,
   "metadata": {
    "collapsed": true
   },
   "outputs": [],
   "source": [
    "import plotly.graph_objs as go\n",
    "import datetime as dt\n",
    "import pandas as pd\n",
    "import numpy as np\n",
    "import pickle\n",
    "import yc"
   ]
  },
  {
   "cell_type": "code",
   "execution_count": null,
   "metadata": {},
   "outputs": [],
   "source": [
    "# Update data\n",
    "yc"
   ]
  },
  {
   "cell_type": "code",
   "execution_count": null,
   "metadata": {
    "collapsed": true
   },
   "outputs": [],
   "source": [
    "with open('yc.pickle', 'rb') as f:\n",
    "    yc_data_all = pickle.load(f)"
   ]
  },
  {
   "cell_type": "code",
   "execution_count": null,
   "metadata": {
    "collapsed": true
   },
   "outputs": [],
   "source": [
    "# Clean up labels:\n",
    "yc_data_all.columns = ['1 month', '2 month', '3 month', '6 month',\n",
    "                       '1 year', '2 year', '3 year', '5 year',\n",
    "                       '7 year', '10 year', '20 year', '30 year']"
   ]
  },
  {
   "cell_type": "code",
   "execution_count": null,
   "metadata": {
    "collapsed": true
   },
   "outputs": [],
   "source": [
    "# Reverse order of columns for appropriate presentation in chart:\n",
    "yc_data_all = yc_data_all[yc_data_all.columns[::-1]]"
   ]
  },
  {
   "cell_type": "code",
   "execution_count": null,
   "metadata": {
    "collapsed": true
   },
   "outputs": [],
   "source": [
    "# Drop rows with all missing values:\n",
    "yc_data_all = yc_data_all.dropna(how='all')"
   ]
  },
  {
   "cell_type": "code",
   "execution_count": null,
   "metadata": {
    "collapsed": true
   },
   "outputs": [],
   "source": [
    "# Drop rows with all zeros\n",
    "mask = np.all(np.isnan(yc_data_all) | np.equal(yc_data_all, 0), axis=1)\n",
    "yc_data_all = yc_data_all[~mask]"
   ]
  },
  {
   "cell_type": "code",
   "execution_count": null,
   "metadata": {
    "collapsed": true
   },
   "outputs": [],
   "source": [
    "yc_data_clean = yc_data_all.drop(['2 month','20 year'], axis=1)"
   ]
  },
  {
   "cell_type": "code",
   "execution_count": null,
   "metadata": {
    "collapsed": true
   },
   "outputs": [],
   "source": [
    "# Choose data all or data clean\n",
    "yc_data = yc_data_clean"
   ]
  },
  {
   "cell_type": "code",
   "execution_count": null,
   "metadata": {},
   "outputs": [],
   "source": [
    "surf = go.Surface(x=yc_data.columns, y=yc_data.index, z=yc_data.values,\n",
    "                  hovertemplate=(\"Maturity: %{x}<br>Date: %{y}<br>Yield: %{z}\"), colorscale='inferno', connectgaps=False,\n",
    "                  lighting={'specular':0.8, 'ambient':0.98, 'roughness': 0.1})\n",
    "fig = go.Figure(data=[surf])\n",
    "fig.update_layout(title='Yield Curve', autosize=False,\n",
    "                  width=1000, height=500,\n",
    "                  scene_camera_up={'x':0, 'y':0, 'z':1},\n",
    "                  scene_camera_center={'x':0, 'y':0, 'z':0},\n",
    "                  scene_camera_eye={'x':2.5, 'y':0.1, 'z':1},\n",
    "                  scene_camera_projection={'type':'orthographic'},\n",
    "                  scene_aspectmode='manual', scene_aspectratio={'x':1, 'y':2.4, 'z':1},\n",
    "                  margin=dict(l=40, r=40, b=65, t=40))\n",
    "fig.show()"
   ]
  },
  {
   "cell_type": "code",
   "execution_count": null,
   "metadata": {},
   "outputs": [],
   "source": [
    "# Why do we have missing data?\n",
    "yc_data_all[np.logical_and((yc_data_all.index>=dt.date(2017,4,1)), (yc_data_all.index<=dt.date(2017,4,30)))]"
   ]
  },
  {
   "cell_type": "code",
   "execution_count": null,
   "metadata": {
    "collapsed": true
   },
   "outputs": [],
   "source": []
  },
  {
   "cell_type": "code",
   "execution_count": null,
   "metadata": {
    "collapsed": true
   },
   "outputs": [],
   "source": []
  }
 ],
 "metadata": {
  "kernelspec": {
   "display_name": "Python 3",
   "language": "python",
   "name": "python3"
  },
  "language_info": {
   "codemirror_mode": {
    "name": "ipython",
    "version": 3
   },
   "file_extension": ".py",
   "mimetype": "text/x-python",
   "name": "python",
   "nbconvert_exporter": "python",
   "pygments_lexer": "ipython3",
   "version": "3.6.8"
  }
 },
 "nbformat": 4,
 "nbformat_minor": 2
}
